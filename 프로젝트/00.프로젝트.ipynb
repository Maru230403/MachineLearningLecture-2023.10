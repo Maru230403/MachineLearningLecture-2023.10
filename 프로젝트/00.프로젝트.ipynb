{
 "cells": [
  {
   "cell_type": "markdown",
   "metadata": {},
   "source": [
    "- 1차 프로젝트(chat bot 10일간)\n",
    "- 주제:(금융(ex - 교외장학금), 부동산(ex - 청약), 법률(ex- ))\n",
    "    - 10월 18일(수) 5교시\n",
    "    - 10월 19일(목) 계획안 초안\n",
    "    - 10월 20일(금) 계획안 발표\n",
    "    - 11월 1일(수) 4교시(오전에 발표)\n",
    "        - 카카오톡에 챗봇 빌드업이 있음(승인기간 오래걸림)"
   ]
  },
  {
   "cell_type": "code",
   "execution_count": null,
   "metadata": {},
   "outputs": [],
   "source": []
  }
 ],
 "metadata": {
  "language_info": {
   "name": "python"
  }
 },
 "nbformat": 4,
 "nbformat_minor": 2
}
