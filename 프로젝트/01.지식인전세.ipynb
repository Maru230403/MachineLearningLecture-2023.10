{
 "cells": [
  {
   "cell_type": "markdown",
   "metadata": {},
   "source": [
    "## 네이버 지식IN- 전세"
   ]
  },
  {
   "cell_type": "code",
   "execution_count": 115,
   "metadata": {},
   "outputs": [],
   "source": [
    "import time\n",
    "import pandas as pd\n",
    "from selenium import webdriver\n",
    "from selenium.webdriver.common.by import By\n",
    "from bs4 import BeautifulSoup\n",
    "from urllib.parse import quote\n",
    "from tqdm import tqdm"
   ]
  },
  {
   "cell_type": "code",
   "execution_count": 157,
   "metadata": {},
   "outputs": [
    {
     "name": "stderr",
     "output_type": "stream",
     "text": [
      "The chromedriver version (117.0.5938.88) detected in PATH at C:\\Users\\human\\Downloads\\chromedriver.exe might not be compatible with the detected chrome version (118.0.5993.71); currently, chromedriver 118.0.5993.70 is recommended for chrome 118.*, so it is advised to delete the driver in PATH and retry\n"
     ]
    }
   ],
   "source": [
    "url = f'https://kin.naver.com/search/list.naver?query={quote(\"부동산전세\")}&page=1'\n",
    "driver = webdriver.Chrome()\n",
    "driver.get(url)\n",
    "soup = BeautifulSoup(driver.page_source, 'html.parser')"
   ]
  },
  {
   "cell_type": "code",
   "execution_count": 125,
   "metadata": {},
   "outputs": [
    {
     "data": {
      "text/plain": [
       "10"
      ]
     },
     "execution_count": 125,
     "metadata": {},
     "output_type": "execute_result"
    }
   ],
   "source": [
    "lis = soup.select('.basic1 > li')\n",
    "len(lis)"
   ]
  },
  {
   "cell_type": "code",
   "execution_count": 100,
   "metadata": {},
   "outputs": [
    {
     "data": {
      "text/plain": [
       "'https://kin.naver.com/qna/detail.naver?d1id=6&dirId=60212&docId=454477774&qb=67aA64+Z7IKw7KCE7IS4&enc=utf8&section=kin&rank=1&search_sort=0&spq=0'"
      ]
     },
     "execution_count": 100,
     "metadata": {},
     "output_type": "execute_result"
    }
   ],
   "source": [
    "li = lis[0]\n",
    "sub_url = li.select_one('a._searchListTitleAnchor')['href']\n",
    "sub_url"
   ]
  },
  {
   "cell_type": "code",
   "execution_count": 91,
   "metadata": {},
   "outputs": [],
   "source": [
    "driver.get(sub_url)\n",
    "time.sleep(2)"
   ]
  },
  {
   "cell_type": "code",
   "execution_count": 92,
   "metadata": {},
   "outputs": [
    {
     "data": {
      "text/plain": [
       "('1', 0)"
      ]
     },
     "execution_count": 92,
     "metadata": {},
     "output_type": "execute_result"
    }
   ],
   "source": [
    "answer_num = driver.find_element(By.CSS_SELECTOR, '._answerCount.num').text\n",
    "click_count = (int(answer_num) - 1) // 5\n",
    "answer_num, click_count"
   ]
  },
  {
   "cell_type": "code",
   "execution_count": 93,
   "metadata": {},
   "outputs": [
    {
     "data": {
      "text/plain": [
       "(1, 1)"
      ]
     },
     "execution_count": 93,
     "metadata": {},
     "output_type": "execute_result"
    }
   ],
   "source": [
    "sub_soup = BeautifulSoup(driver.page_source, 'html.parser')\n",
    "divs = sub_soup.select('.answer-content__list._answerList > div')\n",
    "divs2 = sub_soup.select('#content > div.question-content > div > div.c-heading._questionContentsArea.c-heading--default-old > div.c-heading__content')\n",
    "len(divs),len(divs2)"
   ]
  },
  {
   "cell_type": "code",
   "execution_count": 94,
   "metadata": {},
   "outputs": [
    {
     "name": "stdout",
     "output_type": "stream",
     "text": [
      "[<div class=\"c-heading__content\">\n",
      "\t\t\t\t\t\t안녕하세요. 전세사기를 당한것 같습니다. <div>2021년 12월쯤에 전세계약을 해서 2023년 12월이면 계약이 만료됩니다.</div><div>계약 당시 임대인이 아닌 대리인과 계약을 했습니다.</div><div>중개인은 대리인이 건축주라고 설명했습니다.</div><div>계약 이후에 전세대출 관련해서 은행에 제출할 대리인 신분증을 요구하자,</div><div>중개인이 왜 은행에 대리인 위임장도 제출했냐면서 저에게 뭐라고 하더니</div><div>대리인분이 별로 안좋아하실텐데.. 걱정하면서 중개인이 굉장히 꺼려했습니다. </div><div>(결국 대리인 신분증을 받긴 받았습니다.)</div><div><br/></div><div>뭐 거기까지는 대리인이 전세대출, 부동산 계약 잘 모르시는 분이면 그럴수도 있다고 생각했습니다.</div><div>중개인의 말과 행동으로 봤을때는 대리인이 정말 제3자의 인물처럼 보였기 때문입니다.</div><div><br/></div><div>하지만, 최근에 전세사기가 의심되어 중개인에게 전화를 걸어보니 부동산을 그만두었다고 하더라구요.</div><div>네이버 지도에도 검색해보니 부동산이 폐업을 한 상태였습니다. </div><div>네이버 지도 로드뷰로 확인해보니 개업기간은 2020년11월~2022년6월 (1년6개월) 입니다. </div><div>아무리 생각해도 이상해서 구글에 해당 부동산을 검색해봤습니다.</div><div>대리인이 예전에 사람인에 부동산 실무자를 모집하는 글이 올렸더라구요.</div><div>왜 계약 당시에는 부동산과 관련없는 제3자의 인물인줄 알았던 인물이 부동산 구인글을 올렸을까요..?</div><div>또 그때는 몰랐는데, 제가 부동산 중개수수료를 그 대리인 계좌로 입금했더라구요.</div><div><br/></div><div>저의 추측을 정리해보면 이렇습니다.</div><div>건축주라고 자칭하는 대리인이 공인중개사 명의를 빌려서 전세사기를 목적으로 기획부동산을 개업.</div><div>아마 건물 하나만 떼어먹자고 이렇게까지 하진 않았을거 같습니다. </div><div>(다른 건물 여러개가 더 있을것으로 추정됨)</div><div>빌린 공인중개사 명의로 전세계약 체결</div><div>계약을 망설이는 사람에게 학생이라 복비 깎아준다, 안받는다 하고 꼬드김 (저한테 그랬습니다.)</div><div>(결국에는 복비를 내긴 했습니다. 나중에 일터졌을때, 부동산에서 공제증서 이런거 받으려면 복비를 주는게 맞다고 생각해서요)</div><div>계약 당시 제 앞에 전세 세입자 5명이라고 들었는데, 확정일자/전입신고 기준으로 확인해보니 전세 세입자 중에서 제가 8순위더라구요.. </div><div>근저당이랑 선순위 임차보증금 합하면 건물가를 훌쩍 넘어서 경매 넘어가면 저는 한푼도 못받을 것 같습니다.</div><div><br/></div><div><br/></div><div>질문1. 이 경우 부동산에 손해배상 청구를 할 수 있을까요? 중개사도 한패로 전세사기를 쳤다고 볼만한 증거가 될까요?</div><div>질문2. 이미 폐업한 부동산이고 연락처도 휴대폰번호가 아닌 유선전화번호라서 연락해볼 방법이 없습니다. 이런 경우 어떻게 대처해야할까요?</div><div><br/></div><div><br/></div><div><div>(현재 임대인은 개인회생을 법원에 신청한 상태이고, 대리인은 사기죄로 수감중이라는 소식을 들었습니다.</div><div>또 저랑 같은 지역에 대리인에게 전세사기를 당한 피해자분들이 다른 건물에도 있었구요..</div><div>다른 건물들에서도 피해자가 더 쏟아져 나올 것 같습니다.</div><div>아직 경매 개시가 되지 않았거나, 계약기간이 끝나지 않아 상황을 인지하지 못한 분들이 많은 것 같습니다.)</div></div>\n",
      "</div>]\n"
     ]
    }
   ],
   "source": [
    "print(divs2)"
   ]
  },
  {
   "cell_type": "code",
   "execution_count": 105,
   "metadata": {},
   "outputs": [
    {
     "data": {
      "text/plain": [
       "1"
      ]
     },
     "execution_count": 105,
     "metadata": {},
     "output_type": "execute_result"
    }
   ],
   "source": [
    "div2 = divs2[0]\n",
    "qs = divs2\n",
    "len(qs)"
   ]
  },
  {
   "cell_type": "code",
   "execution_count": 81,
   "metadata": {},
   "outputs": [
    {
     "name": "stdout",
     "output_type": "stream",
     "text": [
      "안녕하세요. 전세사기를 당한것 같습니다. 2021년 12월쯤에 전세계약을 해서 2023년 12월이면 계약이 만료됩니다.계약 당시 임대인이 아닌 대리인과 계약을 했습니다.중개인은 대\n"
     ]
    }
   ],
   "source": [
    "question = ''\n",
    "for q in qs:\n",
    "    text = q.get_text().strip()\n",
    "    if text == '\\u200b' or text == '':\n",
    "        continue\n",
    "    question += text + '\\n'\n",
    "print(question[:100])"
   ]
  },
  {
   "cell_type": "code",
   "execution_count": 82,
   "metadata": {},
   "outputs": [
    {
     "data": {
      "text/plain": [
       "16"
      ]
     },
     "execution_count": 82,
     "metadata": {},
     "output_type": "execute_result"
    }
   ],
   "source": [
    "div = divs[0]\n",
    "ps = div.select('.se-text-paragraph.se-text-paragraph-align-')\n",
    "len(ps)"
   ]
  },
  {
   "cell_type": "code",
   "execution_count": 83,
   "metadata": {},
   "outputs": [
    {
     "name": "stdout",
     "output_type": "stream",
     "text": [
      "안녕하세요. 서울지방변호사회 소속으로 지식iN 법률상담을 진행하고 있는 최성민 변호사입니다.\n",
      "전세사기 대응방법\n",
      "최근 세입자들의 소중한 보증금을 떼어먹는 전세사기가 기승을 부리고 있\n"
     ]
    }
   ],
   "source": [
    "answer = ''\n",
    "for p in ps:\n",
    "    text = p.get_text().strip()\n",
    "    if text == '\\u200b' or text == '':\n",
    "        continue\n",
    "    answer += text + '\\n'\n",
    "print(answer[:100])"
   ]
  },
  {
   "cell_type": "code",
   "execution_count": 84,
   "metadata": {},
   "outputs": [],
   "source": [
    "driver.back()"
   ]
  },
  {
   "cell_type": "code",
   "execution_count": 85,
   "metadata": {},
   "outputs": [
    {
     "name": "stdout",
     "output_type": "stream",
     "text": [
      "0 0 0 0 0 0 0 0 0 0 "
     ]
    }
   ],
   "source": [
    "answer_list = []\n",
    "question_list = []\n",
    "for li in lis:\n",
    "    sub_url = li.select_one('a._searchListTitleAnchor')['href']\n",
    "    driver.get(sub_url)\n",
    "    time.sleep(2)\n",
    "\n",
    "    answer_num = driver.find_element(By.CSS_SELECTOR, '._answerCount.num').text\n",
    "    click_count = (int(answer_num) - 1) // 5\n",
    "    print(click_count, end=' ')\n",
    "    for _ in range(click_count):\n",
    "        driver.find_element(By.ID, 'nextPageButton').click()\n",
    "        time.sleep(2)\n",
    "    sub_soup = BeautifulSoup(driver.page_source, 'html.parser')\n",
    "    divs = sub_soup.select('.answer-content__list._answerList > div')\n",
    "    divs2 = sub_soup.select('#content > div.question-content > div > div.c-heading._questionContentsArea.c-heading--default-old > div.c-heading__content')\n",
    "    for div2 in divs2:\n",
    "        qs = divs2\n",
    "        question = ''\n",
    "        for q in qs:\n",
    "            text = q.get_text().strip()\n",
    "            if text == '\\u200b' or text == '':\n",
    "                continue\n",
    "            question += text + '\\n'\n",
    "        question_list.append(question)\n",
    "        \n",
    "        for div in divs:\n",
    "            ps = div.select('.se-text-paragraph.se-text-paragraph-align-')\n",
    "            answer = ''\n",
    "            for p in ps:\n",
    "                text = p.get_text().strip()\n",
    "                if text == '\\u200b' or text == '':\n",
    "                    continue\n",
    "                answer += text + '\\n'\n",
    "            answer_list.append(answer)\n",
    "        \n",
    "    driver.back()\n",
    "    time.sleep(2)\n"
   ]
  },
  {
   "cell_type": "code",
   "execution_count": 158,
   "metadata": {},
   "outputs": [
    {
     "name": "stderr",
     "output_type": "stream",
     "text": [
      "The chromedriver version (117.0.5938.88) detected in PATH at C:\\Users\\human\\Downloads\\chromedriver.exe might not be compatible with the detected chrome version (118.0.5993.71); currently, chromedriver 118.0.5993.70 is recommended for chrome 118.*, so it is advised to delete the driver in PATH and retry\n"
     ]
    },
    {
     "name": "stdout",
     "output_type": "stream",
     "text": [
      "\n",
      "\n",
      "\n",
      "\n",
      "\n",
      "\n",
      "\n",
      "\n",
      "\n",
      "\n",
      "\n",
      "\n",
      "\n",
      "\n",
      "\n",
      "\n",
      "\n",
      "\n",
      "\n",
      "\n",
      "\n",
      "\n",
      "\n",
      "\n",
      "\n",
      "\n",
      "\n",
      "\n",
      "\n",
      "\n",
      "\n",
      "\n",
      "\n",
      "\n",
      "\n"
     ]
    }
   ],
   "source": [
    "last_list = []\n",
    "driver = webdriver.Chrome()\n",
    "for page in range(1, 36):\n",
    "    url = f'https://kin.naver.com/search/list.naver?query={quote(\"부동산전세\")}&page={page}'\n",
    "    driver.get(url)\n",
    "    time.sleep(2)\n",
    "    soup = BeautifulSoup(driver.page_source, 'html.parser')\n",
    "    lis = soup.select('.basic1 > li')\n",
    "\n",
    "    for li in lis:\n",
    "        sub_url = li.select_one('a._searchListTitleAnchor')['href']\n",
    "        driver.get(sub_url)\n",
    "        time.sleep(2)\n",
    "\n",
    "        sub_soup = BeautifulSoup(driver.page_source, 'html.parser')\n",
    "        divs = sub_soup.select('.answer-content__list._answerList > div')\n",
    "        divs2 = sub_soup.select('#content > div.question-content > div > div.c-heading._questionContentsArea.c-heading--default-old > div.c-heading__content')\n",
    "        for div2 in divs2:\n",
    "            ques_list = []\n",
    "            qs = divs2\n",
    "            question = ''\n",
    "            for p in qs:\n",
    "                text = p.get_text().strip()\n",
    "                if text == '\\u200b' or text == '':\n",
    "                    continue\n",
    "                question += text + '\\n'\n",
    "            ques_list.append(question)\n",
    "            for div in divs:\n",
    "                ans_list = []\n",
    "                ps = div.select('.se-text-paragraph.se-text-paragraph-align-')\n",
    "                answer = ''\n",
    "                for p in ps:\n",
    "                    text = p.get_text().strip()\n",
    "                    if text == '\\u200b' or text == '':\n",
    "                        continue\n",
    "                    answer += text + '\\n'\n",
    "                ans_list.append(answer)\n",
    "            last_list.append({'구분': '전세', '질문':ques_list, '답변':ans_list})\n",
    "                \n",
    "\n",
    "        driver.back()\n",
    "        time.sleep(2)\n",
    "    print()\n",
    "\n",
    "driver.close()"
   ]
  },
  {
   "cell_type": "code",
   "execution_count": 159,
   "metadata": {},
   "outputs": [],
   "source": [
    "df = pd.DataFrame(last_list)"
   ]
  },
  {
   "cell_type": "code",
   "execution_count": 160,
   "metadata": {},
   "outputs": [],
   "source": [
    "df.to_csv('data/부동산전세.csv', index=False)"
   ]
  },
  {
   "cell_type": "code",
   "execution_count": null,
   "metadata": {},
   "outputs": [],
   "source": []
  }
 ],
 "metadata": {
  "kernelspec": {
   "display_name": "base",
   "language": "python",
   "name": "python3"
  },
  "language_info": {
   "codemirror_mode": {
    "name": "ipython",
    "version": 3
   },
   "file_extension": ".py",
   "mimetype": "text/x-python",
   "name": "python",
   "nbconvert_exporter": "python",
   "pygments_lexer": "ipython3",
   "version": "3.11.4"
  }
 },
 "nbformat": 4,
 "nbformat_minor": 2
}
