{
 "cells": [
  {
   "cell_type": "markdown",
   "metadata": {},
   "source": [
    "## OpenAI API 사용하기\n",
    "- ChatGPT 3.5 + Dall-E 사용하여 이미지 생성하기\n",
    "- openai 패키지 설치: conda activate base; pip install openai"
   ]
  },
  {
   "cell_type": "code",
   "execution_count": 1,
   "metadata": {},
   "outputs": [
    {
     "ename": "ModuleNotFoundError",
     "evalue": "No module named 'openai'",
     "output_type": "error",
     "traceback": [
      "\u001b[1;31m---------------------------------------------------------------------------\u001b[0m",
      "\u001b[1;31mModuleNotFoundError\u001b[0m                       Traceback (most recent call last)",
      "\u001b[1;32md:\\WorkSpace\\03.MachineLearning\\09.챗봇\\03.이미지생성.ipynb 셀 2\u001b[0m line \u001b[0;36m1\n\u001b[1;32m----> <a href='vscode-notebook-cell:/d%3A/WorkSpace/03.MachineLearning/09.%EC%B1%97%EB%B4%87/03.%EC%9D%B4%EB%AF%B8%EC%A7%80%EC%83%9D%EC%84%B1.ipynb#W0sZmlsZQ%3D%3D?line=0'>1</a>\u001b[0m \u001b[39mimport\u001b[39;00m \u001b[39mopenai\u001b[39;00m\n\u001b[0;32m      <a href='vscode-notebook-cell:/d%3A/WorkSpace/03.MachineLearning/09.%EC%B1%97%EB%B4%87/03.%EC%9D%B4%EB%AF%B8%EC%A7%80%EC%83%9D%EC%84%B1.ipynb#W0sZmlsZQ%3D%3D?line=1'>2</a>\u001b[0m \u001b[39mimport\u001b[39;00m \u001b[39mrequests\u001b[39;00m\n\u001b[0;32m      <a href='vscode-notebook-cell:/d%3A/WorkSpace/03.MachineLearning/09.%EC%B1%97%EB%B4%87/03.%EC%9D%B4%EB%AF%B8%EC%A7%80%EC%83%9D%EC%84%B1.ipynb#W0sZmlsZQ%3D%3D?line=2'>3</a>\u001b[0m \u001b[39mfrom\u001b[39;00m \u001b[39murllib\u001b[39;00m\u001b[39m.\u001b[39;00m\u001b[39mparse\u001b[39;00m \u001b[39mimport\u001b[39;00m quote\n",
      "\u001b[1;31mModuleNotFoundError\u001b[0m: No module named 'openai'"
     ]
    }
   ],
   "source": [
    "import openai\n",
    "import requests\n",
    "from urllib.parse import quote\n",
    "from PIL import Image\n",
    "import matplotlib.pyplot as plt"
   ]
  },
  {
   "cell_type": "code",
   "execution_count": 2,
   "metadata": {},
   "outputs": [
    {
     "ename": "FileNotFoundError",
     "evalue": "[Errno 2] No such file or directory: 'keys/openAiApiKey.txt'",
     "output_type": "error",
     "traceback": [
      "\u001b[1;31m---------------------------------------------------------------------------\u001b[0m",
      "\u001b[1;31mFileNotFoundError\u001b[0m                         Traceback (most recent call last)",
      "\u001b[1;32md:\\WorkSpace\\03.MachineLearning\\09.챗봇\\03.이미지생성.ipynb 셀 3\u001b[0m line \u001b[0;36m1\n\u001b[1;32m----> <a href='vscode-notebook-cell:/d%3A/WorkSpace/03.MachineLearning/09.%EC%B1%97%EB%B4%87/03.%EC%9D%B4%EB%AF%B8%EC%A7%80%EC%83%9D%EC%84%B1.ipynb#W2sZmlsZQ%3D%3D?line=0'>1</a>\u001b[0m \u001b[39mwith\u001b[39;00m \u001b[39mopen\u001b[39m(\u001b[39m'\u001b[39m\u001b[39mkeys/openAiApiKey.txt\u001b[39m\u001b[39m'\u001b[39m) \u001b[39mas\u001b[39;00m file:\n\u001b[0;32m      <a href='vscode-notebook-cell:/d%3A/WorkSpace/03.MachineLearning/09.%EC%B1%97%EB%B4%87/03.%EC%9D%B4%EB%AF%B8%EC%A7%80%EC%83%9D%EC%84%B1.ipynb#W2sZmlsZQ%3D%3D?line=1'>2</a>\u001b[0m     openai\u001b[39m.\u001b[39mapi_key \u001b[39m=\u001b[39m file\u001b[39m.\u001b[39mread()\n",
      "File \u001b[1;32mc:\\Users\\human\\anaconda3\\Lib\\site-packages\\IPython\\core\\interactiveshell.py:284\u001b[0m, in \u001b[0;36m_modified_open\u001b[1;34m(file, *args, **kwargs)\u001b[0m\n\u001b[0;32m    277\u001b[0m \u001b[39mif\u001b[39;00m file \u001b[39min\u001b[39;00m {\u001b[39m0\u001b[39m, \u001b[39m1\u001b[39m, \u001b[39m2\u001b[39m}:\n\u001b[0;32m    278\u001b[0m     \u001b[39mraise\u001b[39;00m \u001b[39mValueError\u001b[39;00m(\n\u001b[0;32m    279\u001b[0m         \u001b[39mf\u001b[39m\u001b[39m\"\u001b[39m\u001b[39mIPython won\u001b[39m\u001b[39m'\u001b[39m\u001b[39mt let you open fd=\u001b[39m\u001b[39m{\u001b[39;00mfile\u001b[39m}\u001b[39;00m\u001b[39m by default \u001b[39m\u001b[39m\"\u001b[39m\n\u001b[0;32m    280\u001b[0m         \u001b[39m\"\u001b[39m\u001b[39mas it is likely to crash IPython. If you know what you are doing, \u001b[39m\u001b[39m\"\u001b[39m\n\u001b[0;32m    281\u001b[0m         \u001b[39m\"\u001b[39m\u001b[39myou can use builtins\u001b[39m\u001b[39m'\u001b[39m\u001b[39m open.\u001b[39m\u001b[39m\"\u001b[39m\n\u001b[0;32m    282\u001b[0m     )\n\u001b[1;32m--> 284\u001b[0m \u001b[39mreturn\u001b[39;00m io_open(file, \u001b[39m*\u001b[39margs, \u001b[39m*\u001b[39m\u001b[39m*\u001b[39mkwargs)\n",
      "\u001b[1;31mFileNotFoundError\u001b[0m: [Errno 2] No such file or directory: 'keys/openAiApiKey.txt'"
     ]
    }
   ],
   "source": [
    "with open('keys/openAiApiKey.txt') as file:\n",
    "    openai.api_key = file.read()"
   ]
  },
  {
   "cell_type": "code",
   "execution_count": 3,
   "metadata": {},
   "outputs": [],
   "source": [
    "user_input = '석양이 지는 해변가에서 하이볼을 마시는 노인'\n",
    "get_prompt = [\n",
    "    {'role': 'system', 'content': 'Translate it in English'},\n",
    "    {'role': 'user', 'content': user_input}\n",
    "]"
   ]
  },
  {
   "cell_type": "code",
   "execution_count": 4,
   "metadata": {},
   "outputs": [
    {
     "ename": "NameError",
     "evalue": "name 'openai' is not defined",
     "output_type": "error",
     "traceback": [
      "\u001b[1;31m---------------------------------------------------------------------------\u001b[0m",
      "\u001b[1;31mNameError\u001b[0m                                 Traceback (most recent call last)",
      "\u001b[1;32md:\\WorkSpace\\03.MachineLearning\\09.챗봇\\03.이미지생성.ipynb 셀 5\u001b[0m line \u001b[0;36m1\n\u001b[1;32m----> <a href='vscode-notebook-cell:/d%3A/WorkSpace/03.MachineLearning/09.%EC%B1%97%EB%B4%87/03.%EC%9D%B4%EB%AF%B8%EC%A7%80%EC%83%9D%EC%84%B1.ipynb#W4sZmlsZQ%3D%3D?line=0'>1</a>\u001b[0m chatgpt_response \u001b[39m=\u001b[39m openai\u001b[39m.\u001b[39mChatCompletion\u001b[39m.\u001b[39mcreate(\n\u001b[0;32m      <a href='vscode-notebook-cell:/d%3A/WorkSpace/03.MachineLearning/09.%EC%B1%97%EB%B4%87/03.%EC%9D%B4%EB%AF%B8%EC%A7%80%EC%83%9D%EC%84%B1.ipynb#W4sZmlsZQ%3D%3D?line=1'>2</a>\u001b[0m     model\u001b[39m=\u001b[39m\u001b[39m'\u001b[39m\u001b[39mgpt-3.5-turbo\u001b[39m\u001b[39m'\u001b[39m, messages\u001b[39m=\u001b[39mgpt_prompt\n\u001b[0;32m      <a href='vscode-notebook-cell:/d%3A/WorkSpace/03.MachineLearning/09.%EC%B1%97%EB%B4%87/03.%EC%9D%B4%EB%AF%B8%EC%A7%80%EC%83%9D%EC%84%B1.ipynb#W4sZmlsZQ%3D%3D?line=2'>3</a>\u001b[0m )\n\u001b[0;32m      <a href='vscode-notebook-cell:/d%3A/WorkSpace/03.MachineLearning/09.%EC%B1%97%EB%B4%87/03.%EC%9D%B4%EB%AF%B8%EC%A7%80%EC%83%9D%EC%84%B1.ipynb#W4sZmlsZQ%3D%3D?line=3'>4</a>\u001b[0m chatgpt_response\n",
      "\u001b[1;31mNameError\u001b[0m: name 'openai' is not defined"
     ]
    }
   ],
   "source": [
    "chatgpt_response = openai.ChatCompletion.create(\n",
    "    model='gpt-3.5-turbo', messages=gpt_prompt\n",
    ")\n",
    "chatgpt_response"
   ]
  },
  {
   "cell_type": "code",
   "execution_count": 5,
   "metadata": {},
   "outputs": [
    {
     "ename": "NameError",
     "evalue": "name 'chatgpt_response' is not defined",
     "output_type": "error",
     "traceback": [
      "\u001b[1;31m---------------------------------------------------------------------------\u001b[0m",
      "\u001b[1;31mNameError\u001b[0m                                 Traceback (most recent call last)",
      "\u001b[1;32md:\\WorkSpace\\03.MachineLearning\\09.챗봇\\03.이미지생성.ipynb 셀 6\u001b[0m line \u001b[0;36m1\n\u001b[1;32m----> <a href='vscode-notebook-cell:/d%3A/WorkSpace/03.MachineLearning/09.%EC%B1%97%EB%B4%87/03.%EC%9D%B4%EB%AF%B8%EC%A7%80%EC%83%9D%EC%84%B1.ipynb#W5sZmlsZQ%3D%3D?line=0'>1</a>\u001b[0m translated_prompt \u001b[39m=\u001b[39m chatgpt_response[\u001b[39m\"\u001b[39m\u001b[39mchoices\u001b[39m\u001b[39m\"\u001b[39m][\u001b[39m0\u001b[39m][\u001b[39m\"\u001b[39m\u001b[39mmessage\u001b[39m\u001b[39m\"\u001b[39m][\u001b[39m\"\u001b[39m\u001b[39mcontent\u001b[39m\u001b[39m\"\u001b[39m]\n\u001b[0;32m      <a href='vscode-notebook-cell:/d%3A/WorkSpace/03.MachineLearning/09.%EC%B1%97%EB%B4%87/03.%EC%9D%B4%EB%AF%B8%EC%A7%80%EC%83%9D%EC%84%B1.ipynb#W5sZmlsZQ%3D%3D?line=1'>2</a>\u001b[0m translated_prompt\n",
      "\u001b[1;31mNameError\u001b[0m: name 'chatgpt_response' is not defined"
     ]
    }
   ],
   "source": [
    "translated_prompt = chatgpt_response[\"choices\"][0][\"message\"][\"content\"]\n",
    "translated_prompt"
   ]
  },
  {
   "cell_type": "code",
   "execution_count": 6,
   "metadata": {},
   "outputs": [
    {
     "ename": "NameError",
     "evalue": "name 'translated_prompt' is not defined",
     "output_type": "error",
     "traceback": [
      "\u001b[1;31m---------------------------------------------------------------------------\u001b[0m",
      "\u001b[1;31mNameError\u001b[0m                                 Traceback (most recent call last)",
      "\u001b[1;32md:\\WorkSpace\\03.MachineLearning\\09.챗봇\\03.이미지생성.ipynb 셀 7\u001b[0m line \u001b[0;36m4\n\u001b[0;32m      <a href='vscode-notebook-cell:/d%3A/WorkSpace/03.MachineLearning/09.%EC%B1%97%EB%B4%87/03.%EC%9D%B4%EB%AF%B8%EC%A7%80%EC%83%9D%EC%84%B1.ipynb#W6sZmlsZQ%3D%3D?line=0'>1</a>\u001b[0m gpt_prompt \u001b[39m=\u001b[39m [\n\u001b[0;32m      <a href='vscode-notebook-cell:/d%3A/WorkSpace/03.MachineLearning/09.%EC%B1%97%EB%B4%87/03.%EC%9D%B4%EB%AF%B8%EC%A7%80%EC%83%9D%EC%84%B1.ipynb#W6sZmlsZQ%3D%3D?line=1'>2</a>\u001b[0m     {\u001b[39m'\u001b[39m\u001b[39mrole\u001b[39m\u001b[39m'\u001b[39m: \u001b[39m'\u001b[39m\u001b[39msystem\u001b[39m\u001b[39m'\u001b[39m, \n\u001b[0;32m      <a href='vscode-notebook-cell:/d%3A/WorkSpace/03.MachineLearning/09.%EC%B1%97%EB%B4%87/03.%EC%9D%B4%EB%AF%B8%EC%A7%80%EC%83%9D%EC%84%B1.ipynb#W6sZmlsZQ%3D%3D?line=2'>3</a>\u001b[0m      \u001b[39m'\u001b[39m\u001b[39mcontent\u001b[39m\u001b[39m'\u001b[39m: \u001b[39m'\u001b[39m\u001b[39mImagine the detail appearance of the input. Response it shortly around 20 words.\u001b[39m\u001b[39m'\u001b[39m},\n\u001b[1;32m----> <a href='vscode-notebook-cell:/d%3A/WorkSpace/03.MachineLearning/09.%EC%B1%97%EB%B4%87/03.%EC%9D%B4%EB%AF%B8%EC%A7%80%EC%83%9D%EC%84%B1.ipynb#W6sZmlsZQ%3D%3D?line=3'>4</a>\u001b[0m     {\u001b[39m'\u001b[39m\u001b[39mrole\u001b[39m\u001b[39m'\u001b[39m: \u001b[39m'\u001b[39m\u001b[39muser\u001b[39m\u001b[39m'\u001b[39m, \u001b[39m'\u001b[39m\u001b[39mcontent\u001b[39m\u001b[39m'\u001b[39m: translated_prompt}\n\u001b[0;32m      <a href='vscode-notebook-cell:/d%3A/WorkSpace/03.MachineLearning/09.%EC%B1%97%EB%B4%87/03.%EC%9D%B4%EB%AF%B8%EC%A7%80%EC%83%9D%EC%84%B1.ipynb#W6sZmlsZQ%3D%3D?line=4'>5</a>\u001b[0m ]\n\u001b[0;32m      <a href='vscode-notebook-cell:/d%3A/WorkSpace/03.MachineLearning/09.%EC%B1%97%EB%B4%87/03.%EC%9D%B4%EB%AF%B8%EC%A7%80%EC%83%9D%EC%84%B1.ipynb#W6sZmlsZQ%3D%3D?line=5'>6</a>\u001b[0m chatgpt_response \u001b[39m=\u001b[39m openai\u001b[39m.\u001b[39mChatCompletion\u001b[39m.\u001b[39mcreate(\n\u001b[0;32m      <a href='vscode-notebook-cell:/d%3A/WorkSpace/03.MachineLearning/09.%EC%B1%97%EB%B4%87/03.%EC%9D%B4%EB%AF%B8%EC%A7%80%EC%83%9D%EC%84%B1.ipynb#W6sZmlsZQ%3D%3D?line=6'>7</a>\u001b[0m     model\u001b[39m=\u001b[39m\u001b[39m'\u001b[39m\u001b[39mgpt-3.5-turbo\u001b[39m\u001b[39m'\u001b[39m, messages\u001b[39m=\u001b[39mgpt_prompt\n\u001b[0;32m      <a href='vscode-notebook-cell:/d%3A/WorkSpace/03.MachineLearning/09.%EC%B1%97%EB%B4%87/03.%EC%9D%B4%EB%AF%B8%EC%A7%80%EC%83%9D%EC%84%B1.ipynb#W6sZmlsZQ%3D%3D?line=7'>8</a>\u001b[0m )\n\u001b[0;32m      <a href='vscode-notebook-cell:/d%3A/WorkSpace/03.MachineLearning/09.%EC%B1%97%EB%B4%87/03.%EC%9D%B4%EB%AF%B8%EC%A7%80%EC%83%9D%EC%84%B1.ipynb#W6sZmlsZQ%3D%3D?line=8'>9</a>\u001b[0m prompt \u001b[39m=\u001b[39m chatgpt_response[\u001b[39m\"\u001b[39m\u001b[39mchoices\u001b[39m\u001b[39m\"\u001b[39m][\u001b[39m0\u001b[39m][\u001b[39m\"\u001b[39m\u001b[39mmessage\u001b[39m\u001b[39m\"\u001b[39m][\u001b[39m\"\u001b[39m\u001b[39mcontent\u001b[39m\u001b[39m\"\u001b[39m]\n",
      "\u001b[1;31mNameError\u001b[0m: name 'translated_prompt' is not defined"
     ]
    }
   ],
   "source": [
    "gpt_prompt = [\n",
    "    {'role': 'system', \n",
    "     'content': 'Imagine the detail appearance of the input. Response it shortly around 20 words.'},\n",
    "    {'role': 'user', 'content': translated_prompt}\n",
    "]\n",
    "chatgpt_response = openai.ChatCompletion.create(\n",
    "    model='gpt-3.5-turbo', messages=gpt_prompt\n",
    ")\n",
    "prompt = chatgpt_response[\"choices\"][0][\"message\"][\"content\"]\n",
    "prompt"
   ]
  },
  {
   "cell_type": "code",
   "execution_count": 7,
   "metadata": {},
   "outputs": [
    {
     "ename": "NameError",
     "evalue": "name 'openai' is not defined",
     "output_type": "error",
     "traceback": [
      "\u001b[1;31m---------------------------------------------------------------------------\u001b[0m",
      "\u001b[1;31mNameError\u001b[0m                                 Traceback (most recent call last)",
      "\u001b[1;32md:\\WorkSpace\\03.MachineLearning\\09.챗봇\\03.이미지생성.ipynb 셀 8\u001b[0m line \u001b[0;36m1\n\u001b[1;32m----> <a href='vscode-notebook-cell:/d%3A/WorkSpace/03.MachineLearning/09.%EC%B1%97%EB%B4%87/03.%EC%9D%B4%EB%AF%B8%EC%A7%80%EC%83%9D%EC%84%B1.ipynb#X10sZmlsZQ%3D%3D?line=0'>1</a>\u001b[0m dalle_response \u001b[39m=\u001b[39m openai\u001b[39m.\u001b[39mImage\u001b[39m.\u001b[39mcreate(\n\u001b[0;32m      <a href='vscode-notebook-cell:/d%3A/WorkSpace/03.MachineLearning/09.%EC%B1%97%EB%B4%87/03.%EC%9D%B4%EB%AF%B8%EC%A7%80%EC%83%9D%EC%84%B1.ipynb#X10sZmlsZQ%3D%3D?line=1'>2</a>\u001b[0m     prompt\u001b[39m=\u001b[39mprompt, size\u001b[39m=\u001b[39m\u001b[39m'\u001b[39m\u001b[39m1024x1024\u001b[39m\u001b[39m'\u001b[39m\n\u001b[0;32m      <a href='vscode-notebook-cell:/d%3A/WorkSpace/03.MachineLearning/09.%EC%B1%97%EB%B4%87/03.%EC%9D%B4%EB%AF%B8%EC%A7%80%EC%83%9D%EC%84%B1.ipynb#X10sZmlsZQ%3D%3D?line=2'>3</a>\u001b[0m )\n",
      "\u001b[1;31mNameError\u001b[0m: name 'openai' is not defined"
     ]
    }
   ],
   "source": [
    "dalle_response = openai.Image.create(\n",
    "    prompt=prompt, size='1024x1024'\n",
    ")"
   ]
  },
  {
   "cell_type": "code",
   "execution_count": 8,
   "metadata": {},
   "outputs": [
    {
     "ename": "NameError",
     "evalue": "name 'dalle_response' is not defined",
     "output_type": "error",
     "traceback": [
      "\u001b[1;31m---------------------------------------------------------------------------\u001b[0m",
      "\u001b[1;31mNameError\u001b[0m                                 Traceback (most recent call last)",
      "\u001b[1;32md:\\WorkSpace\\03.MachineLearning\\09.챗봇\\03.이미지생성.ipynb 셀 9\u001b[0m line \u001b[0;36m1\n\u001b[1;32m----> <a href='vscode-notebook-cell:/d%3A/WorkSpace/03.MachineLearning/09.%EC%B1%97%EB%B4%87/03.%EC%9D%B4%EB%AF%B8%EC%A7%80%EC%83%9D%EC%84%B1.ipynb#X11sZmlsZQ%3D%3D?line=0'>1</a>\u001b[0m dalle_response\n",
      "\u001b[1;31mNameError\u001b[0m: name 'dalle_response' is not defined"
     ]
    }
   ],
   "source": [
    "dalle_response"
   ]
  },
  {
   "cell_type": "code",
   "execution_count": 10,
   "metadata": {},
   "outputs": [
    {
     "ename": "NameError",
     "evalue": "name 'dalle_response' is not defined",
     "output_type": "error",
     "traceback": [
      "\u001b[1;31m---------------------------------------------------------------------------\u001b[0m",
      "\u001b[1;31mNameError\u001b[0m                                 Traceback (most recent call last)",
      "\u001b[1;32md:\\WorkSpace\\03.MachineLearning\\09.챗봇\\03.이미지생성.ipynb 셀 10\u001b[0m line \u001b[0;36m1\n\u001b[1;32m----> <a href='vscode-notebook-cell:/d%3A/WorkSpace/03.MachineLearning/09.%EC%B1%97%EB%B4%87/03.%EC%9D%B4%EB%AF%B8%EC%A7%80%EC%83%9D%EC%84%B1.ipynb#X12sZmlsZQ%3D%3D?line=0'>1</a>\u001b[0m img_url \u001b[39m=\u001b[39m dalle_response[\u001b[39m\"\u001b[39m\u001b[39mdata\u001b[39m\u001b[39m\"\u001b[39m][\u001b[39m0\u001b[39m][\u001b[39m\"\u001b[39m\u001b[39murl\u001b[39m\u001b[39m\"\u001b[39m]\n\u001b[0;32m      <a href='vscode-notebook-cell:/d%3A/WorkSpace/03.MachineLearning/09.%EC%B1%97%EB%B4%87/03.%EC%9D%B4%EB%AF%B8%EC%A7%80%EC%83%9D%EC%84%B1.ipynb#X12sZmlsZQ%3D%3D?line=1'>2</a>\u001b[0m response \u001b[39m=\u001b[39m requests\u001b[39m.\u001b[39mget(img_url)\n\u001b[0;32m      <a href='vscode-notebook-cell:/d%3A/WorkSpace/03.MachineLearning/09.%EC%B1%97%EB%B4%87/03.%EC%9D%B4%EB%AF%B8%EC%A7%80%EC%83%9D%EC%84%B1.ipynb#X12sZmlsZQ%3D%3D?line=2'>3</a>\u001b[0m \u001b[39mwith\u001b[39;00m \u001b[39mopen\u001b[39m(\u001b[39m'\u001b[39m\u001b[39mdata/result.png\u001b[39m\u001b[39m'\u001b[39m, \u001b[39m'\u001b[39m\u001b[39mwb\u001b[39m\u001b[39m'\u001b[39m) \u001b[39mas\u001b[39;00m img_file:\n",
      "\u001b[1;31mNameError\u001b[0m: name 'dalle_response' is not defined"
     ]
    }
   ],
   "source": [
    "img_url = dalle_response[\"data\"][0][\"url\"]\n",
    "response = requests.get(img_url)\n",
    "with open('data/result.png', 'wb') as img_file:\n",
    "    img_file.write(response.content)"
   ]
  },
  {
   "cell_type": "code",
   "execution_count": 12,
   "metadata": {},
   "outputs": [
    {
     "ename": "NameError",
     "evalue": "name 'Image' is not defined",
     "output_type": "error",
     "traceback": [
      "\u001b[1;31m---------------------------------------------------------------------------\u001b[0m",
      "\u001b[1;31mNameError\u001b[0m                                 Traceback (most recent call last)",
      "\u001b[1;32md:\\WorkSpace\\03.MachineLearning\\09.챗봇\\03.이미지생성.ipynb 셀 11\u001b[0m line \u001b[0;36m1\n\u001b[1;32m----> <a href='vscode-notebook-cell:/d%3A/WorkSpace/03.MachineLearning/09.%EC%B1%97%EB%B4%87/03.%EC%9D%B4%EB%AF%B8%EC%A7%80%EC%83%9D%EC%84%B1.ipynb#X13sZmlsZQ%3D%3D?line=0'>1</a>\u001b[0m img \u001b[39m=\u001b[39m Image\u001b[39m.\u001b[39mopen(\u001b[39m'\u001b[39m\u001b[39mdata/result.png\u001b[39m\u001b[39m'\u001b[39m)\n\u001b[0;32m      <a href='vscode-notebook-cell:/d%3A/WorkSpace/03.MachineLearning/09.%EC%B1%97%EB%B4%87/03.%EC%9D%B4%EB%AF%B8%EC%A7%80%EC%83%9D%EC%84%B1.ipynb#X13sZmlsZQ%3D%3D?line=1'>2</a>\u001b[0m plt\u001b[39m.\u001b[39mfigure(figsize\u001b[39m=\u001b[39m(\u001b[39m6\u001b[39m,\u001b[39m6\u001b[39m))\n\u001b[0;32m      <a href='vscode-notebook-cell:/d%3A/WorkSpace/03.MachineLearning/09.%EC%B1%97%EB%B4%87/03.%EC%9D%B4%EB%AF%B8%EC%A7%80%EC%83%9D%EC%84%B1.ipynb#X13sZmlsZQ%3D%3D?line=2'>3</a>\u001b[0m plt\u001b[39m.\u001b[39mimshow(img)\n",
      "\u001b[1;31mNameError\u001b[0m: name 'Image' is not defined"
     ]
    }
   ],
   "source": [
    "img = Image.open('data/result.png')\n",
    "plt.figure(figsize=(6,6))\n",
    "plt.imshow(img)\n",
    "plt.axis('off')\n",
    "plt.show()"
   ]
  },
  {
   "cell_type": "code",
   "execution_count": null,
   "metadata": {},
   "outputs": [],
   "source": []
  }
 ],
 "metadata": {
  "kernelspec": {
   "display_name": "base",
   "language": "python",
   "name": "python3"
  },
  "language_info": {
   "codemirror_mode": {
    "name": "ipython",
    "version": 3
   },
   "file_extension": ".py",
   "mimetype": "text/x-python",
   "name": "python",
   "nbconvert_exporter": "python",
   "pygments_lexer": "ipython3",
   "version": "3.11.4"
  }
 },
 "nbformat": 4,
 "nbformat_minor": 2
}
